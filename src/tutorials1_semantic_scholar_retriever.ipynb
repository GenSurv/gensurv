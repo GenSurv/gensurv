{
 "cells": [
  {
   "cell_type": "markdown",
   "source": [
    "# Semantic Scholarから論文取得\n",
    "参考：https://www.semanticscholar.org/product/api/tutorial\n",
    "参考: https://python.langchain.com/v0.2/docs/integrations/retrievers/arxiv/"
   ],
   "metadata": {
    "collapsed": false
   },
   "id": "a6fe6b57fbff6e16"
  },
  {
   "cell_type": "code",
   "outputs": [],
   "source": [
    "from gensurv.retrievers import SemanticScholarRetriever\n",
    "retriever = SemanticScholarRetriever(\n",
    "    load_max_docs=3, \n",
    "    sleep_time=2  # sleep_timeはエンドポイントへの負担を考慮する\n",
    ")\n",
    "docs = retriever.invoke(\"covid vaccination\")  # 検索キーワード"
   ],
   "metadata": {
    "collapsed": false,
    "ExecuteTime": {
     "end_time": "2024-07-25T01:42:10.500247Z",
     "start_time": "2024-07-25T01:41:33.058739Z"
    }
   },
   "id": "abc5f9cdc63d0ebf",
   "execution_count": 6
  },
  {
   "cell_type": "code",
   "outputs": [
    {
     "name": "stdout",
     "output_type": "stream",
     "text": [
      "Title: Connectedness of COVID vaccination with economic policy uncertainty, oil, bonds, and sectoral equity markets: evidence from the US\n",
      "Authors: I. Yousaf, Saba Qureshi, Fiza Qureshi, Mariya Gubareva\n",
      "Abstract: None\n",
      "Venue: Annals of Operations Research\n",
      "Year: 2023\n"
     ]
    }
   ],
   "source": [
    "# タイトル、著者、アブストラクト、雑誌名、出版年をまとめたテキストとして取得できる\n",
    "print(docs[0].page_content)"
   ],
   "metadata": {
    "collapsed": false,
    "ExecuteTime": {
     "end_time": "2024-07-25T01:42:17.111352Z",
     "start_time": "2024-07-25T01:42:17.108985Z"
    }
   },
   "id": "c2f8a1f5af1411d6",
   "execution_count": 7
  },
  {
   "cell_type": "code",
   "outputs": [
    {
     "name": "stdout",
     "output_type": "stream",
     "text": [
      "{'paperId': '3a309f89ad7f1a9b3fa8de16e7231a15487756c8', 'title': 'Connectedness of COVID vaccination with economic policy uncertainty, oil, bonds, and sectoral equity markets: evidence from the US', 'abstract': None, 'venue': 'Annals of Operations Research', 'year': 2023, 'authors': [{'authorId': '46631963', 'name': 'I. Yousaf'}, {'authorId': '49914951', 'name': 'Saba Qureshi'}, {'authorId': '50996501', 'name': 'Fiza Qureshi'}, {'authorId': '46223116', 'name': 'Mariya Gubareva'}]}\n"
     ]
    }
   ],
   "source": [
    "# 個別に取得したい場合はmetadataを参照する\n",
    "print(docs[0].metadata)"
   ],
   "metadata": {
    "collapsed": false,
    "ExecuteTime": {
     "end_time": "2024-07-25T01:42:35.534030Z",
     "start_time": "2024-07-25T01:42:35.531640Z"
    }
   },
   "id": "3620c2fee7227bc2",
   "execution_count": 8
  },
  {
   "cell_type": "code",
   "outputs": [],
   "source": [],
   "metadata": {
    "collapsed": false
   },
   "id": "bd48f05dfb1c4ddc"
  }
 ],
 "metadata": {
  "kernelspec": {
   "display_name": "Python 3",
   "language": "python",
   "name": "python3"
  },
  "language_info": {
   "codemirror_mode": {
    "name": "ipython",
    "version": 2
   },
   "file_extension": ".py",
   "mimetype": "text/x-python",
   "name": "python",
   "nbconvert_exporter": "python",
   "pygments_lexer": "ipython2",
   "version": "2.7.6"
  }
 },
 "nbformat": 4,
 "nbformat_minor": 5
}
