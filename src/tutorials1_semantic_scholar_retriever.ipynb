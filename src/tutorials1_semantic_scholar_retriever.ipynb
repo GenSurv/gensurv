{
 "cells": [
  {
   "cell_type": "markdown",
   "source": [
    "# Semantic Scholarから論文取得\n",
    "参考：https://www.semanticscholar.org/product/api/tutorial\n",
    "参考: https://python.langchain.com/v0.2/docs/integrations/retrievers/arxiv/"
   ],
   "metadata": {
    "collapsed": false
   },
   "id": "a6fe6b57fbff6e16"
  },
  {
   "cell_type": "code",
   "outputs": [
    {
     "name": "stderr",
     "output_type": "stream",
     "text": [
      "/Users/Ryota/_projects/gensurv/.venv/lib/python3.11/site-packages/langchain_core/_api/deprecation.py:119: LangChainDeprecationWarning: The method `BaseRetriever.get_relevant_documents` was deprecated in langchain-core 0.1.46 and will be removed in 0.3.0. Use invoke instead.\n",
      "  warn_deprecated(\n"
     ]
    }
   ],
   "source": [
    "from gensurv.retrievers import SemanticScholarRetriever\n",
    "retriever = SemanticScholarRetriever(\n",
    "    load_max_docs=3, \n",
    "    sleep_time=2  # sleep_timeはエンドポイントへの負担を考慮する\n",
    ")\n",
    "papers = retriever.invoke(\"covid vaccination\")  # 検索キーワード"
   ],
   "metadata": {
    "collapsed": false,
    "ExecuteTime": {
     "end_time": "2024-08-17T08:15:08.656569Z",
     "start_time": "2024-08-17T08:15:04.656925Z"
    }
   },
   "id": "abc5f9cdc63d0ebf",
   "execution_count": 1
  },
  {
   "cell_type": "code",
   "outputs": [
    {
     "name": "stdout",
     "output_type": "stream",
     "text": [
      "id='df72552a9579aac7e1b3f9ef25d6f1b9ee675d20' title='Long COVID risk and pre-COVID vaccination in an EHR-based cohort study from the RECOVER program' abstract=None venue='Nature Communications' year=2023 authors=[Author(id='2091278883', name='M. Brannock'), Author(id='19227625', name='Robert F. Chew'), Author(id='49074404', name='Alexander J Preiss'), Author(id='1750115749', name='Emily C Hadley'), Author(id='2119325652', name='Signe Redfield'), Author(id='2911541', name='J. McMurry'), Author(id='2218469507', name='Peter J Leese'), Author(id='33755835', name='A. Girvin'), Author(id='144101217', name='M. Crosskey'), Author(id='2064472799', name='A. Zhou'), Author(id='49012941', name='R. Moffitt'), Author(id='145558447', name='M. J. Funk'), Author(id='32733281', name='E. Pfaff'), Author(id='1976792', name='M. Haendel'), Author(id='2106442071', name='C. Chute')]\n"
     ]
    }
   ],
   "source": [
    "# Paperオブジェクトで取得\n",
    "print(papers[0])"
   ],
   "metadata": {
    "collapsed": false,
    "ExecuteTime": {
     "end_time": "2024-08-17T08:15:14.405527Z",
     "start_time": "2024-08-17T08:15:14.400146Z"
    }
   },
   "id": "c2f8a1f5af1411d6",
   "execution_count": 2
  },
  {
   "cell_type": "code",
   "outputs": [],
   "source": [
    "print(papers[1])\n"
   ],
   "metadata": {
    "collapsed": false
   },
   "id": "c7149129860ff488",
   "execution_count": null
  },
  {
   "cell_type": "code",
   "outputs": [],
   "source": [],
   "metadata": {
    "collapsed": false
   },
   "id": "4cf6806c120f910e"
  }
 ],
 "metadata": {
  "kernelspec": {
   "display_name": "Python 3",
   "language": "python",
   "name": "python3"
  },
  "language_info": {
   "codemirror_mode": {
    "name": "ipython",
    "version": 2
   },
   "file_extension": ".py",
   "mimetype": "text/x-python",
   "name": "python",
   "nbconvert_exporter": "python",
   "pygments_lexer": "ipython2",
   "version": "2.7.6"
  }
 },
 "nbformat": 4,
 "nbformat_minor": 5
}
