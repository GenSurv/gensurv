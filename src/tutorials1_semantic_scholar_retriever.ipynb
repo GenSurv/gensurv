{
 "cells": [
  {
   "cell_type": "markdown",
   "source": [
    "# Semantic Scholarから論文取得\n",
    "参考：https://www.semanticscholar.org/product/api/tutorial\n",
    "参考: https://python.langchain.com/v0.2/docs/integrations/retrievers/arxiv/"
   ],
   "metadata": {
    "collapsed": false
   },
   "id": "a6fe6b57fbff6e16"
  },
  {
   "cell_type": "code",
   "outputs": [],
   "source": [
    "from gensurv.retrievers import SemanticScholarRetriever\n",
    "retriever = SemanticScholarRetriever(\n",
    "    load_max_docs=10, \n",
    "    sleep_time=2,  # sleep_timeはエンドポイントへの負担を考慮する\n",
    "    output_dir=\"../data/semantic_scholar\"  # データ保存先\n",
    ")\n",
    "papers = retriever.retrieve(\"covid vaccination\")  # 検索キーワード"
   ],
   "metadata": {
    "collapsed": false,
    "ExecuteTime": {
     "end_time": "2024-08-17T16:15:04.838561Z",
     "start_time": "2024-08-17T16:14:59.194268Z"
    }
   },
   "id": "abc5f9cdc63d0ebf",
   "execution_count": 1
  },
  {
   "cell_type": "code",
   "outputs": [
    {
     "name": "stdout",
     "output_type": "stream",
     "text": [
      "id='df72552a9579aac7e1b3f9ef25d6f1b9ee675d20' title='Long COVID risk and pre-COVID vaccination in an EHR-based cohort study from the RECOVER program' abstract=None venue='Nature Communications' year=2023 authors=[Author(id='2091278883', name='M. Brannock'), Author(id='19227625', name='Robert F. Chew'), Author(id='49074404', name='Alexander J Preiss'), Author(id='1750115749', name='Emily C Hadley'), Author(id='2119325652', name='Signe Redfield'), Author(id='2911541', name='J. McMurry'), Author(id='2218469507', name='Peter J Leese'), Author(id='33755835', name='A. Girvin'), Author(id='144101217', name='M. Crosskey'), Author(id='2064472799', name='A. Zhou'), Author(id='49012941', name='R. Moffitt'), Author(id='145558447', name='M. J. Funk'), Author(id='32733281', name='E. Pfaff'), Author(id='1976792', name='M. Haendel'), Author(id='2106442071', name='C. Chute')] citation_styles={'bibtex': '@Article{Brannock2023LongCR,\\n author = {M. Brannock and Robert F. Chew and Alexander J Preiss and Emily C Hadley and Signe Redfield and J. McMurry and Peter J Leese and A. Girvin and M. Crosskey and A. Zhou and R. Moffitt and M. J. Funk and E. Pfaff and M. Haendel and C. Chute},\\n booktitle = {Nature Communications},\\n journal = {Nature Communications},\\n title = {Long COVID risk and pre-COVID vaccination in an EHR-based cohort study from the RECOVER program},\\n volume = {14},\\n year = {2023}\\n}\\n'}\n"
     ]
    }
   ],
   "source": [
    "# Paperオブジェクトで取得\n",
    "print(papers[0])"
   ],
   "metadata": {
    "collapsed": false,
    "ExecuteTime": {
     "end_time": "2024-08-17T15:31:58.327646Z",
     "start_time": "2024-08-17T15:31:58.324106Z"
    }
   },
   "id": "c2f8a1f5af1411d6",
   "execution_count": 3
  }
 ],
 "metadata": {
  "kernelspec": {
   "display_name": "Python 3",
   "language": "python",
   "name": "python3"
  },
  "language_info": {
   "codemirror_mode": {
    "name": "ipython",
    "version": 2
   },
   "file_extension": ".py",
   "mimetype": "text/x-python",
   "name": "python",
   "nbconvert_exporter": "python",
   "pygments_lexer": "ipython2",
   "version": "2.7.6"
  }
 },
 "nbformat": 4,
 "nbformat_minor": 5
}
