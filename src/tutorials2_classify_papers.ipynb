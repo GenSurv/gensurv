{
 "cells": [
  {
   "cell_type": "markdown",
   "source": [
    "# 所与の見出しに対して論文を割り当てる\n",
    "各論文がどの見出しで引用されるべきかを判断する\n",
    "\n",
    "【注意】このTutorialの前にtutorials1を実行してPaperを保存しておく必要がある"
   ],
   "metadata": {
    "collapsed": false
   },
   "id": "68bc0714f0ec70fd"
  },
  {
   "cell_type": "code",
   "outputs": [],
   "source": [
    "from pathlib import Path\n",
    "from gensurv.generate_headings import classify_papers_batch\n",
    "from gensurv.models import Paper\n",
    "\n",
    "paper_paths = Path(\"../data/semantic_scholar\").glob(\"*.json\")\n",
    "papers = [Paper.parse_raw(path.read_text()) for path in paper_paths]\n",
    "headings = [\n",
    "    \"Introduction\",\n",
    "    \"Core Components of Laboratory Automation\",\n",
    "    \"Key Application Areas\",\n",
    "    \"Emerging Technologies in Laboratory Automation\",\n",
    "    \"Benefits and Challenges of Laboratory Automation\",\n",
    "    \"Future Trends and Perspectives\",\n",
    "    \"Conclusion and Outlook\",\n",
    "]\n",
    "classified_papers = classify_papers_batch(papers, headings)"
   ],
   "metadata": {
    "collapsed": false,
    "ExecuteTime": {
     "end_time": "2024-08-17T17:42:38.591699Z",
     "start_time": "2024-08-17T17:42:36.475870Z"
    }
   },
   "id": "12466df2420592ca",
   "execution_count": 1
  },
  {
   "cell_type": "code",
   "outputs": [
    {
     "name": "stdout",
     "output_type": "stream",
     "text": [
      "# Introduction\n",
      "# Core Components of Laboratory Automation\n",
      "# Key Application Areas\n",
      "- The Impact of COVID Vaccination on Symptoms of Long COVID. An International Survey of People with Lived Experience of Long COVID\n",
      "- The Impact of COVID Vaccination on Symptoms of Long COVID: An International Survey of People with Lived Experience of Long COVID\n",
      "- COVID vaccination in older adults\n",
      "- Bilateral optic neuritis after COVID vaccination\n",
      "- The impact of COVID-19 and COVID vaccination on cardiovascular outcomes\n",
      "- Connectedness of COVID vaccination with economic policy uncertainty, oil, bonds, and sectoral equity markets: evidence from the US\n",
      "- Public Attitude Towards COVID-19 Vaccination: Validation of COVID-Vaccination Attitude Scale (C-VAS)\n",
      "- Towards a GDPR-Compliant Blockchain-Based COVID Vaccination Passport\n",
      "- Long COVID risk and pre-COVID vaccination in an EHR-based cohort study from the RECOVER program\n",
      "- Long COVID Risk and Pre-COVID Vaccination: An EHR-Based Cohort Study from the RECOVER Program\n",
      "# Emerging Technologies in Laboratory Automation\n",
      "# Benefits and Challenges of Laboratory Automation\n",
      "# Future Trends and Perspectives\n",
      "# Conclusion and Outlook\n",
      "# Other\n",
      "- Anti-COVID Vaccination for Adolescents: A Survey on Determinants of Vaccine Parental Hesitancy\n",
      "# Error\n"
     ]
    }
   ],
   "source": [
    "for heading, papers in classified_papers.items():\n",
    "    print(f\"# {heading}\")\n",
    "    for paper in papers:\n",
    "        print(f\"- {paper.title}\")"
   ],
   "metadata": {
    "collapsed": false,
    "ExecuteTime": {
     "end_time": "2024-08-17T16:27:34.134678Z",
     "start_time": "2024-08-17T16:27:34.132188Z"
    }
   },
   "id": "8f120e2888f19786",
   "execution_count": 7
  },
  {
   "cell_type": "code",
   "outputs": [],
   "source": [],
   "metadata": {
    "collapsed": false
   },
   "id": "832a8c9f7ab80234"
  }
 ],
 "metadata": {
  "kernelspec": {
   "display_name": "Python 3",
   "language": "python",
   "name": "python3"
  },
  "language_info": {
   "codemirror_mode": {
    "name": "ipython",
    "version": 2
   },
   "file_extension": ".py",
   "mimetype": "text/x-python",
   "name": "python",
   "nbconvert_exporter": "python",
   "pygments_lexer": "ipython2",
   "version": "2.7.6"
  }
 },
 "nbformat": 4,
 "nbformat_minor": 5
}
